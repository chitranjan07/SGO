{
 "cells": [
  {
   "cell_type": "code",
   "execution_count": 58,
   "id": "3a2748c3-ebd4-4f96-9b25-d3c78eb9b3b0",
   "metadata": {},
   "outputs": [
    {
     "data": {
      "text/html": [
       "<div>\n",
       "<style scoped>\n",
       "    .dataframe tbody tr th:only-of-type {\n",
       "        vertical-align: middle;\n",
       "    }\n",
       "\n",
       "    .dataframe tbody tr th {\n",
       "        vertical-align: top;\n",
       "    }\n",
       "\n",
       "    .dataframe thead th {\n",
       "        text-align: right;\n",
       "    }\n",
       "</style>\n",
       "<table border=\"1\" class=\"dataframe\">\n",
       "  <thead>\n",
       "    <tr style=\"text-align: right;\">\n",
       "      <th></th>\n",
       "      <th>voltage</th>\n",
       "      <th>current</th>\n",
       "      <th>temperature</th>\n",
       "      <th>timestamp</th>\n",
       "    </tr>\n",
       "  </thead>\n",
       "  <tbody>\n",
       "    <tr>\n",
       "      <th>0</th>\n",
       "      <td>214.66</td>\n",
       "      <td>12.44</td>\n",
       "      <td>42.68</td>\n",
       "      <td>2025-06-10 16:41:30.469950</td>\n",
       "    </tr>\n",
       "    <tr>\n",
       "      <th>1</th>\n",
       "      <td>211.06</td>\n",
       "      <td>13.49</td>\n",
       "      <td>29.11</td>\n",
       "      <td>2025-06-10 16:41:30.469950</td>\n",
       "    </tr>\n",
       "    <tr>\n",
       "      <th>2</th>\n",
       "      <td>232.54</td>\n",
       "      <td>8.84</td>\n",
       "      <td>38.58</td>\n",
       "      <td>2025-06-10 16:41:30.469950</td>\n",
       "    </tr>\n",
       "    <tr>\n",
       "      <th>3</th>\n",
       "      <td>226.75</td>\n",
       "      <td>7.63</td>\n",
       "      <td>28.98</td>\n",
       "      <td>2025-06-10 16:41:30.469950</td>\n",
       "    </tr>\n",
       "    <tr>\n",
       "      <th>4</th>\n",
       "      <td>220.61</td>\n",
       "      <td>6.33</td>\n",
       "      <td>44.96</td>\n",
       "      <td>2025-06-10 16:41:30.469950</td>\n",
       "    </tr>\n",
       "  </tbody>\n",
       "</table>\n",
       "</div>"
      ],
      "text/plain": [
       "   voltage  current  temperature                  timestamp\n",
       "0   214.66    12.44        42.68 2025-06-10 16:41:30.469950\n",
       "1   211.06    13.49        29.11 2025-06-10 16:41:30.469950\n",
       "2   232.54     8.84        38.58 2025-06-10 16:41:30.469950\n",
       "3   226.75     7.63        28.98 2025-06-10 16:41:30.469950\n",
       "4   220.61     6.33        44.96 2025-06-10 16:41:30.469950"
      ]
     },
     "execution_count": 58,
     "metadata": {},
     "output_type": "execute_result"
    }
   ],
   "source": [
    "import random\n",
    "import pandas as pd\n",
    "import time\n",
    "\n",
    "# Simulate 100 rows of sensor data\n",
    "def simulate_sensor_data():\n",
    "    return {\n",
    "        \"voltage\": round(random.uniform(210, 240), 2),\n",
    "        \"current\": round(random.uniform(5, 15), 2),\n",
    "        \"temperature\": round(random.uniform(25, 45), 2),\n",
    "        \"timestamp\": pd.Timestamp.now()\n",
    "    }\n",
    "\n",
    "# Generate dataset\n",
    "df = pd.DataFrame([simulate_sensor_data() for _ in range(100)])\n",
    "df.head()\n"
   ]
  },
  {
   "cell_type": "code",
   "execution_count": 59,
   "id": "08935a2f-3613-4982-8b81-4db9024eeb5c",
   "metadata": {},
   "outputs": [
    {
     "name": "stdout",
     "output_type": "stream",
     "text": [
      "✅ Alerts saved to anomaly_logs.csv\n"
     ]
    }
   ],
   "source": [
    "def detect_anomaly(row):\n",
    "    return row['voltage'] > 235 or row['temperature'] > 40\n",
    "\n",
    "df['anomaly'] = df.apply(detect_anomaly, axis=1)\n",
    "# ✅ Filter and save anomaly data (optional)\n",
    "alerts = df[df['anomaly']]\n",
    "alerts.to_csv(\"anomaly_logs.csv\", index=False)\n",
    "print(\"✅ Alerts saved to anomaly_logs.csv\")\n",
    "\n"
   ]
  },
  {
   "cell_type": "code",
   "execution_count": 60,
   "id": "bc3cc7e9-1460-4ba7-b021-b7eef940244a",
   "metadata": {},
   "outputs": [
    {
     "name": "stdout",
     "output_type": "stream",
     "text": [
      "🔮 Predicted Load 1: 1823.94 W\n",
      "🔮 Predicted Load 2: 2502.92 W\n",
      "🔮 Predicted Load 3: 1523.16 W\n",
      "🔮 Predicted Load 4: 1273.12 W\n",
      "🔮 Predicted Load 5: 1228.3 W\n",
      "🔮 Predicted Load 6: 2878.73 W\n",
      "🔮 Predicted Load 7: 2786.96 W\n",
      "🔮 Predicted Load 8: 1964.05 W\n",
      "🔮 Predicted Load 9: 2853.5 W\n",
      "🔮 Predicted Load 10: 1746.98 W\n"
     ]
    }
   ],
   "source": [
    "from sklearn.linear_model import LinearRegression\n",
    "from sklearn.model_selection import train_test_split\n",
    "\n",
    "# Create a load column\n",
    "df['load'] = df['voltage'] * df['current']\n",
    "\n",
    "X = df[['voltage', 'current', 'temperature']]\n",
    "y = df['load']\n",
    "\n",
    "X_train, X_test, y_train, y_test = train_test_split(X, y, test_size=0.2)\n",
    "\n",
    "model = LinearRegression()\n",
    "model.fit(X_train, y_train)\n",
    "\n",
    "predicted_load = model.predict(X_test)\n",
    "for i, prediction in enumerate(predicted_load[:10]):\n",
    "    print(f\"🔮 Predicted Load {i+1}: {round(prediction, 2)} W\")\n",
    "\n",
    "\n",
    "\n"
   ]
  },
  {
   "cell_type": "code",
   "execution_count": 61,
   "id": "522861a0-86ca-44a4-8f62-5aa7cfe8e6be",
   "metadata": {},
   "outputs": [
    {
     "data": {
      "image/png": "[encoded data removed]",
      "text/plain": [
       "<Figure size 640x480 with 1 Axes>"
      ]
     },
     "metadata": {},
     "output_type": "display_data"
    }
   ],
   "source": [
    "import matplotlib.pyplot as plt\n",
    "\n",
    "plt.plot(df['timestamp'], df['voltage'], label='Voltage')\n",
    "plt.plot(df['timestamp'], df['temperature'], label='Temperature')\n",
    "plt.legend()\n",
    "plt.xlabel(\"Time\")\n",
    "plt.ylabel(\"Sensor Values\")\n",
    "plt.title(\"Real-Time Monitoring Simulation\")\n",
    "plt.xticks(rotation=45)\n",
    "plt.tight_layout()\n",
    "plt.show()\n"
   ]
  },
  {
   "cell_type": "code",
   "execution_count": 62,
   "id": "c20dcf92-e450-43c4-b7be-4a58d18c869f",
   "metadata": {},
   "outputs": [
    {
     "name": "stdout",
     "output_type": "stream",
     "text": [
      "⚠️ ALERT at 2025-06-10 16:41:30.469950: High reading detected! Voltage=214.66V Temp=42.68°C\n",
      "⚠️ ALERT at 2025-06-10 16:41:30.469950: High reading detected! Voltage=220.61V Temp=44.96°C\n",
      "⚠️ ALERT at 2025-06-10 16:41:30.469950: High reading detected! Voltage=239.18V Temp=33.32°C\n",
      "⚠️ ALERT at 2025-06-10 16:41:30.469950: High reading detected! Voltage=216.64V Temp=40.26°C\n",
      "⚠️ ALERT at 2025-06-10 16:41:30.469950: High reading detected! Voltage=224.8V Temp=43.6°C\n",
      "⚠️ ALERT at 2025-06-10 16:41:30.471971: High reading detected! Voltage=237.12V Temp=43.31°C\n",
      "⚠️ ALERT at 2025-06-10 16:41:30.471971: High reading detected! Voltage=237.5V Temp=32.92°C\n",
      "⚠️ ALERT at 2025-06-10 16:41:30.471971: High reading detected! Voltage=237.83V Temp=34.83°C\n",
      "⚠️ ALERT at 2025-06-10 16:41:30.471971: High reading detected! Voltage=233.15V Temp=40.07°C\n",
      "⚠️ ALERT at 2025-06-10 16:41:30.471971: High reading detected! Voltage=215.68V Temp=42.05°C\n",
      "⚠️ ALERT at 2025-06-10 16:41:30.471971: High reading detected! Voltage=216.87V Temp=42.39°C\n",
      "⚠️ ALERT at 2025-06-10 16:41:30.471971: High reading detected! Voltage=235.18V Temp=44.23°C\n",
      "⚠️ ALERT at 2025-06-10 16:41:30.471971: High reading detected! Voltage=217.17V Temp=42.39°C\n",
      "⚠️ ALERT at 2025-06-10 16:41:30.471971: High reading detected! Voltage=239.65V Temp=32.96°C\n",
      "⚠️ ALERT at 2025-06-10 16:41:30.471971: High reading detected! Voltage=225.08V Temp=43.22°C\n",
      "⚠️ ALERT at 2025-06-10 16:41:30.471971: High reading detected! Voltage=224.5V Temp=42.84°C\n",
      "⚠️ ALERT at 2025-06-10 16:41:30.471971: High reading detected! Voltage=239.62V Temp=27.59°C\n",
      "⚠️ ALERT at 2025-06-10 16:41:30.471971: High reading detected! Voltage=226.42V Temp=40.39°C\n",
      "⚠️ ALERT at 2025-06-10 16:41:30.471971: High reading detected! Voltage=237.79V Temp=39.19°C\n",
      "⚠️ ALERT at 2025-06-10 16:41:30.471971: High reading detected! Voltage=215.78V Temp=40.28°C\n",
      "⚠️ ALERT at 2025-06-10 16:41:30.471971: High reading detected! Voltage=235.99V Temp=41.06°C\n",
      "⚠️ ALERT at 2025-06-10 16:41:30.471971: High reading detected! Voltage=235.12V Temp=29.03°C\n",
      "⚠️ ALERT at 2025-06-10 16:41:30.471971: High reading detected! Voltage=220.48V Temp=40.08°C\n",
      "⚠️ ALERT at 2025-06-10 16:41:30.471971: High reading detected! Voltage=222.64V Temp=42.92°C\n",
      "⚠️ ALERT at 2025-06-10 16:41:30.471971: High reading detected! Voltage=234.1V Temp=41.45°C\n",
      "⚠️ ALERT at 2025-06-10 16:41:30.471971: High reading detected! Voltage=237.43V Temp=35.24°C\n",
      "⚠️ ALERT at 2025-06-10 16:41:30.471971: High reading detected! Voltage=214.68V Temp=41.7°C\n",
      "⚠️ ALERT at 2025-06-10 16:41:30.471971: High reading detected! Voltage=214.52V Temp=41.19°C\n",
      "⚠️ ALERT at 2025-06-10 16:41:30.471971: High reading detected! Voltage=234.22V Temp=40.09°C\n",
      "⚠️ ALERT at 2025-06-10 16:41:30.471971: High reading detected! Voltage=235.41V Temp=30.62°C\n",
      "⚠️ ALERT at 2025-06-10 16:41:30.471971: High reading detected! Voltage=238.18V Temp=37.47°C\n",
      "⚠️ ALERT at 2025-06-10 16:41:30.471971: High reading detected! Voltage=229.31V Temp=44.34°C\n",
      "⚠️ ALERT at 2025-06-10 16:41:30.471971: High reading detected! Voltage=238.11V Temp=35.19°C\n",
      "⚠️ ALERT at 2025-06-10 16:41:30.471971: High reading detected! Voltage=225.18V Temp=42.43°C\n",
      "⚠️ ALERT at 2025-06-10 16:41:30.471971: High reading detected! Voltage=223.25V Temp=44.16°C\n",
      "⚠️ ALERT at 2025-06-10 16:41:30.471971: High reading detected! Voltage=238.82V Temp=25.09°C\n",
      "⚠️ Total Alerts Detected: 36\n"
     ]
    }
   ],
   "source": [
    "alerts = df[df['anomaly'] == True]\n",
    "\n",
    "for _, row in alerts.iterrows():\n",
    "    print(f\"⚠️ ALERT at {row['timestamp']}: High reading detected! Voltage={row['voltage']}V Temp={row['temperature']}°C\")\n",
    "print(f\"⚠️ Total Alerts Detected: {df['anomaly'].sum()}\")\n"
   ]
  },
  {
   "cell_type": "code",
   "execution_count": 63,
   "id": "8420950d-9892-41d2-9598-fd2aadc1413c",
   "metadata": {},
   "outputs": [
    {
     "name": "stdout",
     "output_type": "stream",
     "text": [
      "Defaulting to user installation because normal site-packages is not writeable\n",
      "Requirement already satisfied: paho-mqtt in c:\\users\\vp380\\appdata\\roaming\\python\\python312\\site-packages (2.1.0)\n"
     ]
    }
   ],
   "source": [
    "import sys\n",
    "!{sys.executable} -m pip install paho-mqtt\n"
   ]
  },
  {
   "cell_type": "code",
   "execution_count": 64,
   "id": "8d378408-c4c1-4548-b4d4-2d621aa54667",
   "metadata": {},
   "outputs": [
    {
     "name": "stdout",
     "output_type": "stream",
     "text": [
      "Name: paho-mqtt\n",
      "Version: 2.1.0\n",
      "Summary: MQTT version 5.0/3.1.1 client class\n",
      "Home-page: http://eclipse.org/paho\n",
      "Author: \n",
      "Author-email: Roger Light <roger@atchoo.org>\n",
      "License: EPL-2.0 OR BSD-3-Clause\n",
      "Location: C:\\Users\\vp380\\AppData\\Roaming\\Python\\Python312\\site-packages\n",
      "Requires: \n",
      "Required-by: \n",
      "C:\\ProgramData\\anaconda3\\python.exe\n"
     ]
    }
   ],
   "source": [
    "!pip show paho-mqtt\n",
    "import sys\n",
    "print(sys.executable)\n",
    "\n"
   ]
  },
  {
   "cell_type": "code",
   "execution_count": 65,
   "id": "b20bf714-43b4-4e40-bfb0-a0acdbdfae4c",
   "metadata": {},
   "outputs": [
    {
     "name": "stdout",
     "output_type": "stream",
     "text": [
      "📤 Sent: {'voltage': 233.36, 'current': 14.94, 'temperature': 43.24}\n",
      "📤 Sent: {'voltage': 230.84, 'current': 10.0, 'temperature': 40.95}\n",
      "📤 Sent: {'voltage': 238.77, 'current': 10.66, 'temperature': 30.0}\n",
      "📤 Sent: {'voltage': 237.66, 'current': 6.46, 'temperature': 38.63}\n",
      "📤 Sent: {'voltage': 223.25, 'current': 5.85, 'temperature': 41.39}\n",
      "📤 Sent: {'voltage': 230.5, 'current': 11.0, 'temperature': 30.67}\n",
      "📤 Sent: {'voltage': 235.17, 'current': 12.71, 'temperature': 30.32}\n",
      "📤 Sent: {'voltage': 227.21, 'current': 6.38, 'temperature': 39.13}\n",
      "📤 Sent: {'voltage': 229.67, 'current': 9.7, 'temperature': 38.04}\n",
      "📤 Sent: {'voltage': 235.28, 'current': 5.43, 'temperature': 31.73}\n"
     ]
    }
   ],
   "source": [
    "import paho.mqtt.publish as publish\n",
    "import json\n",
    "\n",
    "for i in range(10):\n",
    "    payload = {\n",
    "        \"voltage\": round(random.uniform(220, 240), 2),\n",
    "        \"current\": round(random.uniform(5, 15), 2),\n",
    "        \"temperature\": round(random.uniform(30, 45), 2)\n",
    "    }\n",
    "    publish.single(\"grid/sensors\", json.dumps(payload), hostname=\"broker.hivemq.com\")\n",
    "    print(\"📤 Sent:\", payload)\n",
    "    time.sleep(2)\n"
   ]
  },
  {
   "cell_type": "code",
   "execution_count": null,
   "id": "71821d7a-7bd9-493f-8987-8c0131c7d17e",
   "metadata": {},
   "outputs": [],
   "source": []
  }
 ],
 "metadata": {
  "kernelspec": {
   "display_name": "Python [conda env:base] *",
   "language": "python",
   "name": "conda-base-py"
  },
  "language_info": {
   "codemirror_mode": {
    "name": "ipython",
    "version": 3
   },
   "file_extension": ".py",
   "mimetype": "text/x-python",
   "name": "python",
   "nbconvert_exporter": "python",
   "pygments_lexer": "ipython3",
   "version": "3.12.7"
  }
 },
 "nbformat": 4,
 "nbformat_minor": 5
}
