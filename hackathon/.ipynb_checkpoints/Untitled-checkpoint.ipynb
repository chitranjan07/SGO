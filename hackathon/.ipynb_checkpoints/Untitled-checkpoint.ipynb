{
 "cells": [
  {
   "cell_type": "code",
   "execution_count": 5,
   "id": "3a2748c3-ebd4-4f96-9b25-d3c78eb9b3b0",
   "metadata": {},
   "outputs": [
    {
     "data": {
      "text/html": [
       "<div>\n",
       "<style scoped>\n",
       "    .dataframe tbody tr th:only-of-type {\n",
       "        vertical-align: middle;\n",
       "    }\n",
       "\n",
       "    .dataframe tbody tr th {\n",
       "        vertical-align: top;\n",
       "    }\n",
       "\n",
       "    .dataframe thead th {\n",
       "        text-align: right;\n",
       "    }\n",
       "</style>\n",
       "<table border=\"1\" class=\"dataframe\">\n",
       "  <thead>\n",
       "    <tr style=\"text-align: right;\">\n",
       "      <th></th>\n",
       "      <th>voltage</th>\n",
       "      <th>current</th>\n",
       "      <th>temperature</th>\n",
       "      <th>timestamp</th>\n",
       "    </tr>\n",
       "  </thead>\n",
       "  <tbody>\n",
       "    <tr>\n",
       "      <th>0</th>\n",
       "      <td>232.10</td>\n",
       "      <td>7.99</td>\n",
       "      <td>33.90</td>\n",
       "      <td>2025-06-07 08:58:55.441420</td>\n",
       "    </tr>\n",
       "    <tr>\n",
       "      <th>1</th>\n",
       "      <td>225.27</td>\n",
       "      <td>5.93</td>\n",
       "      <td>32.64</td>\n",
       "      <td>2025-06-07 08:58:55.441420</td>\n",
       "    </tr>\n",
       "    <tr>\n",
       "      <th>2</th>\n",
       "      <td>236.37</td>\n",
       "      <td>8.74</td>\n",
       "      <td>31.60</td>\n",
       "      <td>2025-06-07 08:58:55.441420</td>\n",
       "    </tr>\n",
       "    <tr>\n",
       "      <th>3</th>\n",
       "      <td>217.80</td>\n",
       "      <td>7.44</td>\n",
       "      <td>44.40</td>\n",
       "      <td>2025-06-07 08:58:55.441420</td>\n",
       "    </tr>\n",
       "    <tr>\n",
       "      <th>4</th>\n",
       "      <td>229.67</td>\n",
       "      <td>11.86</td>\n",
       "      <td>29.77</td>\n",
       "      <td>2025-06-07 08:58:55.441420</td>\n",
       "    </tr>\n",
       "  </tbody>\n",
       "</table>\n",
       "</div>"
      ],
      "text/plain": [
       "   voltage  current  temperature                  timestamp\n",
       "0   232.10     7.99        33.90 2025-06-07 08:58:55.441420\n",
       "1   225.27     5.93        32.64 2025-06-07 08:58:55.441420\n",
       "2   236.37     8.74        31.60 2025-06-07 08:58:55.441420\n",
       "3   217.80     7.44        44.40 2025-06-07 08:58:55.441420\n",
       "4   229.67    11.86        29.77 2025-06-07 08:58:55.441420"
      ]
     },
     "execution_count": 5,
     "metadata": {},
     "output_type": "execute_result"
    }
   ],
   "source": [
    "import random\n",
    "import pandas as pd\n",
    "import time\n",
    "\n",
    "# Simulate 100 rows of sensor data\n",
    "def simulate_sensor_data():\n",
    "    return {\n",
    "        \"voltage\": round(random.uniform(210, 240), 2),\n",
    "        \"current\": round(random.uniform(5, 15), 2),\n",
    "        \"temperature\": round(random.uniform(25, 45), 2),\n",
    "        \"timestamp\": pd.Timestamp.now()\n",
    "    }\n",
    "\n",
    "# Generate dataset\n",
    "df = pd.DataFrame([simulate_sensor_data() for _ in range(100)])\n",
    "df.head()\n"
   ]
  },
  {
   "cell_type": "code",
   "execution_count": 6,
   "id": "08935a2f-3613-4982-8b81-4db9024eeb5c",
   "metadata": {},
   "outputs": [
    {
     "name": "stdout",
     "output_type": "stream",
     "text": [
      "✅ Alerts saved to anomaly_logs.csv\n"
     ]
    }
   ],
   "source": [
    "def detect_anomaly(row):\n",
    "    return row['voltage'] > 235 or row['temperature'] > 40\n",
    "\n",
    "df['anomaly'] = df.apply(detect_anomaly, axis=1)\n",
    "# ✅ Filter and save anomaly data (optional)\n",
    "alerts = df[df['anomaly']]\n",
    "alerts.to_csv(\"anomaly_logs.csv\", index=False)\n",
    "print(\"✅ Alerts saved to anomaly_logs.csv\")\n",
    "\n"
   ]
  },
  {
   "cell_type": "code",
   "execution_count": 7,
   "id": "bc3cc7e9-1460-4ba7-b021-b7eef940244a",
   "metadata": {},
   "outputs": [
    {
     "name": "stdout",
     "output_type": "stream",
     "text": [
      "🔮 Predicted Load 1: 2703.4 W\n",
      "🔮 Predicted Load 2: 2342.15 W\n",
      "🔮 Predicted Load 3: 1871.14 W\n",
      "🔮 Predicted Load 4: 3003.69 W\n",
      "🔮 Predicted Load 5: 3427.7 W\n",
      "🔮 Predicted Load 6: 1821.98 W\n",
      "🔮 Predicted Load 7: 3099.12 W\n",
      "🔮 Predicted Load 8: 3244.19 W\n",
      "🔮 Predicted Load 9: 1025.23 W\n",
      "🔮 Predicted Load 10: 2547.74 W\n"
     ]
    }
   ],
   "source": [
    "from sklearn.linear_model import LinearRegression\n",
    "from sklearn.model_selection import train_test_split\n",
    "\n",
    "# Create a load column\n",
    "df['load'] = df['voltage'] * df['current']\n",
    "\n",
    "X = df[['voltage', 'current', 'temperature']]\n",
    "y = df['load']\n",
    "\n",
    "X_train, X_test, y_train, y_test = train_test_split(X, y, test_size=0.2)\n",
    "\n",
    "model = LinearRegression()\n",
    "model.fit(X_train, y_train)\n",
    "\n",
    "predicted_load = model.predict(X_test)\n",
    "for i, prediction in enumerate(predicted_load[:10]):\n",
    "    print(f\"🔮 Predicted Load {i+1}: {round(prediction, 2)} W\")\n",
    "\n",
    "\n",
    "\n"
   ]
  },
  {
   "cell_type": "code",
   "execution_count": 8,
   "id": "522861a0-86ca-44a4-8f62-5aa7cfe8e6be",
   "metadata": {},
   "outputs": [
    {
     "data": {
      "image/png": "[encoded data removed]",
      "text/plain": [
       "<Figure size 640x480 with 1 Axes>"
      ]
     },
     "metadata": {},
     "output_type": "display_data"
    }
   ],
   "source": [
    "import matplotlib.pyplot as plt\n",
    "\n",
    "plt.plot(df['timestamp'], df['voltage'], label='Voltage')\n",
    "plt.plot(df['timestamp'], df['temperature'], label='Temperature')\n",
    "plt.legend()\n",
    "plt.xlabel(\"Time\")\n",
    "plt.ylabel(\"Sensor Values\")\n",
    "plt.title(\"Real-Time Monitoring Simulation\")\n",
    "plt.xticks(rotation=45)\n",
    "plt.tight_layout()\n",
    "plt.show()\n"
   ]
  },
  {
   "cell_type": "code",
   "execution_count": 9,
   "id": "c20dcf92-e450-43c4-b7be-4a58d18c869f",
   "metadata": {},
   "outputs": [
    {
     "name": "stdout",
     "output_type": "stream",
     "text": [
      "⚠️ ALERT at 2025-06-07 08:58:55.441420: High reading detected! Voltage=236.37V Temp=31.6°C\n",
      "⚠️ ALERT at 2025-06-07 08:58:55.441420: High reading detected! Voltage=217.8V Temp=44.4°C\n",
      "⚠️ ALERT at 2025-06-07 08:58:55.441420: High reading detected! Voltage=217.33V Temp=43.08°C\n",
      "⚠️ ALERT at 2025-06-07 08:58:55.441420: High reading detected! Voltage=235.6V Temp=30.66°C\n",
      "⚠️ ALERT at 2025-06-07 08:58:55.441420: High reading detected! Voltage=235.74V Temp=31.56°C\n",
      "⚠️ ALERT at 2025-06-07 08:58:55.441420: High reading detected! Voltage=224.23V Temp=42.31°C\n",
      "⚠️ ALERT at 2025-06-07 08:58:55.441420: High reading detected! Voltage=235.81V Temp=37.73°C\n",
      "⚠️ ALERT at 2025-06-07 08:58:55.441420: High reading detected! Voltage=236.85V Temp=37.52°C\n",
      "⚠️ ALERT at 2025-06-07 08:58:55.441420: High reading detected! Voltage=214.12V Temp=43.83°C\n",
      "⚠️ ALERT at 2025-06-07 08:58:55.441420: High reading detected! Voltage=210.45V Temp=43.05°C\n",
      "⚠️ ALERT at 2025-06-07 08:58:55.441420: High reading detected! Voltage=234.18V Temp=42.56°C\n",
      "⚠️ ALERT at 2025-06-07 08:58:55.443438: High reading detected! Voltage=214.0V Temp=44.08°C\n",
      "⚠️ ALERT at 2025-06-07 08:58:55.443438: High reading detected! Voltage=222.14V Temp=44.49°C\n",
      "⚠️ ALERT at 2025-06-07 08:58:55.443438: High reading detected! Voltage=225.51V Temp=42.44°C\n",
      "⚠️ ALERT at 2025-06-07 08:58:55.443438: High reading detected! Voltage=230.44V Temp=44.26°C\n",
      "⚠️ ALERT at 2025-06-07 08:58:55.443438: High reading detected! Voltage=222.07V Temp=42.86°C\n",
      "⚠️ ALERT at 2025-06-07 08:58:55.443438: High reading detected! Voltage=228.6V Temp=41.69°C\n",
      "⚠️ ALERT at 2025-06-07 08:58:55.443438: High reading detected! Voltage=215.89V Temp=43.01°C\n",
      "⚠️ ALERT at 2025-06-07 08:58:55.443438: High reading detected! Voltage=227.9V Temp=44.4°C\n",
      "⚠️ ALERT at 2025-06-07 08:58:55.443438: High reading detected! Voltage=231.69V Temp=40.66°C\n",
      "⚠️ ALERT at 2025-06-07 08:58:55.443438: High reading detected! Voltage=235.41V Temp=36.57°C\n",
      "⚠️ ALERT at 2025-06-07 08:58:55.443438: High reading detected! Voltage=235.74V Temp=39.27°C\n",
      "⚠️ ALERT at 2025-06-07 08:58:55.443438: High reading detected! Voltage=239.06V Temp=29.46°C\n",
      "⚠️ ALERT at 2025-06-07 08:58:55.443438: High reading detected! Voltage=239.26V Temp=33.33°C\n",
      "⚠️ ALERT at 2025-06-07 08:58:55.443438: High reading detected! Voltage=235.98V Temp=35.65°C\n",
      "⚠️ ALERT at 2025-06-07 08:58:55.443438: High reading detected! Voltage=239.57V Temp=33.47°C\n",
      "⚠️ ALERT at 2025-06-07 08:58:55.443438: High reading detected! Voltage=239.9V Temp=38.62°C\n",
      "⚠️ ALERT at 2025-06-07 08:58:55.443438: High reading detected! Voltage=231.75V Temp=40.04°C\n",
      "⚠️ ALERT at 2025-06-07 08:58:55.443955: High reading detected! Voltage=235.83V Temp=36.21°C\n",
      "⚠️ ALERT at 2025-06-07 08:58:55.443955: High reading detected! Voltage=236.15V Temp=39.94°C\n",
      "⚠️ ALERT at 2025-06-07 08:58:55.443955: High reading detected! Voltage=230.12V Temp=40.1°C\n",
      "⚠️ ALERT at 2025-06-07 08:58:55.443955: High reading detected! Voltage=220.35V Temp=44.03°C\n",
      "⚠️ ALERT at 2025-06-07 08:58:55.443955: High reading detected! Voltage=238.63V Temp=28.76°C\n",
      "⚠️ ALERT at 2025-06-07 08:58:55.443955: High reading detected! Voltage=234.0V Temp=44.32°C\n",
      "⚠️ ALERT at 2025-06-07 08:58:55.443955: High reading detected! Voltage=235.76V Temp=43.89°C\n",
      "⚠️ ALERT at 2025-06-07 08:58:55.443955: High reading detected! Voltage=238.81V Temp=32.96°C\n",
      "⚠️ Total Alerts Detected: 36\n"
     ]
    }
   ],
   "source": [
    "alerts = df[df['anomaly'] == True]\n",
    "\n",
    "for _, row in alerts.iterrows():\n",
    "    print(f\"⚠️ ALERT at {row['timestamp']}: High reading detected! Voltage={row['voltage']}V Temp={row['temperature']}°C\")\n",
    "print(f\"⚠️ Total Alerts Detected: {df['anomaly'].sum()}\")\n"
   ]
  },
  {
   "cell_type": "code",
   "execution_count": 10,
   "id": "8420950d-9892-41d2-9598-fd2aadc1413c",
   "metadata": {},
   "outputs": [
    {
     "name": "stdout",
     "output_type": "stream",
     "text": [
      "Defaulting to user installation because normal site-packages is not writeable\n",
      "Requirement already satisfied: paho-mqtt in c:\\users\\vp380\\appdata\\roaming\\python\\python312\\site-packages (2.1.0)\n"
     ]
    }
   ],
   "source": [
    "import sys\n",
    "!{sys.executable} -m pip install paho-mqtt\n"
   ]
  },
  {
   "cell_type": "code",
   "execution_count": 11,
   "id": "8d378408-c4c1-4548-b4d4-2d621aa54667",
   "metadata": {},
   "outputs": [
    {
     "name": "stdout",
     "output_type": "stream",
     "text": [
      "Name: paho-mqtt\n",
      "Version: 2.1.0\n",
      "Summary: MQTT version 5.0/3.1.1 client class\n",
      "Home-page: http://eclipse.org/paho\n",
      "Author: \n",
      "Author-email: Roger Light <roger@atchoo.org>\n",
      "License: EPL-2.0 OR BSD-3-Clause\n",
      "Location: C:\\Users\\vp380\\AppData\\Roaming\\Python\\Python312\\site-packages\n",
      "Requires: \n",
      "Required-by: \n",
      "C:\\ProgramData\\anaconda3\\python.exe\n"
     ]
    }
   ],
   "source": [
    "!pip show paho-mqtt\n",
    "import sys\n",
    "print(sys.executable)\n",
    "\n"
   ]
  },
  {
   "cell_type": "code",
   "execution_count": 12,
   "id": "b20bf714-43b4-4e40-bfb0-a0acdbdfae4c",
   "metadata": {},
   "outputs": [
    {
     "name": "stdout",
     "output_type": "stream",
     "text": [
      "📤 Sent: {'voltage': 230.84, 'current': 11.5, 'temperature': 34.9}\n",
      "📤 Sent: {'voltage': 232.95, 'current': 12.77, 'temperature': 36.55}\n",
      "📤 Sent: {'voltage': 226.41, 'current': 13.67, 'temperature': 43.4}\n",
      "📤 Sent: {'voltage': 224.65, 'current': 14.62, 'temperature': 38.99}\n",
      "📤 Sent: {'voltage': 228.69, 'current': 10.38, 'temperature': 39.17}\n",
      "📤 Sent: {'voltage': 233.8, 'current': 8.91, 'temperature': 39.96}\n",
      "📤 Sent: {'voltage': 228.72, 'current': 11.81, 'temperature': 37.2}\n",
      "📤 Sent: {'voltage': 222.55, 'current': 9.24, 'temperature': 42.28}\n",
      "📤 Sent: {'voltage': 224.45, 'current': 12.47, 'temperature': 39.66}\n",
      "📤 Sent: {'voltage': 221.89, 'current': 8.85, 'temperature': 40.01}\n"
     ]
    }
   ],
   "source": [
    "import paho.mqtt.publish as publish\n",
    "import json\n",
    "\n",
    "for i in range(10):\n",
    "    payload = {\n",
    "        \"voltage\": round(random.uniform(220, 240), 2),\n",
    "        \"current\": round(random.uniform(5, 15), 2),\n",
    "        \"temperature\": round(random.uniform(30, 45), 2)\n",
    "    }\n",
    "    publish.single(\"grid/sensors\", json.dumps(payload), hostname=\"broker.hivemq.com\")\n",
    "    print(\"📤 Sent:\", payload)\n",
    "    time.sleep(2)\n"
   ]
  },
  {
   "cell_type": "code",
   "execution_count": null,
   "id": "9c4e575c-92bc-46a6-838b-847040a2ff35",
   "metadata": {},
   "outputs": [],
   "source": []
  }
 ],
 "metadata": {
  "kernelspec": {
   "display_name": "Python [conda env:base] *",
   "language": "python",
   "name": "conda-base-py"
  },
  "language_info": {
   "codemirror_mode": {
    "name": "ipython",
    "version": 3
   },
   "file_extension": ".py",
   "mimetype": "text/x-python",
   "name": "python",
   "nbconvert_exporter": "python",
   "pygments_lexer": "ipython3",
   "version": "3.12.7"
  }
 },
 "nbformat": 4,
 "nbformat_minor": 5
}
