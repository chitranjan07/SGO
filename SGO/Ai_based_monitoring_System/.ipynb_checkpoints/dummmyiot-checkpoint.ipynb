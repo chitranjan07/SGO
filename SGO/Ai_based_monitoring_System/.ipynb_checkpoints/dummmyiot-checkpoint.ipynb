{
 "cells": [
  {
   "cell_type": "code",
   "execution_count": 9,
   "id": "3a2748c3-ebd4-4f96-9b25-d3c78eb9b3b0",
   "metadata": {},
   "outputs": [
    {
     "data": {
      "text/html": [
       "<div>\n",
       "<style scoped>\n",
       "    .dataframe tbody tr th:only-of-type {\n",
       "        vertical-align: middle;\n",
       "    }\n",
       "\n",
       "    .dataframe tbody tr th {\n",
       "        vertical-align: top;\n",
       "    }\n",
       "\n",
       "    .dataframe thead th {\n",
       "        text-align: right;\n",
       "    }\n",
       "</style>\n",
       "<table border=\"1\" class=\"dataframe\">\n",
       "  <thead>\n",
       "    <tr style=\"text-align: right;\">\n",
       "      <th></th>\n",
       "      <th>voltage</th>\n",
       "      <th>current</th>\n",
       "      <th>temperature</th>\n",
       "      <th>timestamp</th>\n",
       "    </tr>\n",
       "  </thead>\n",
       "  <tbody>\n",
       "    <tr>\n",
       "      <th>0</th>\n",
       "      <td>222.10</td>\n",
       "      <td>6.21</td>\n",
       "      <td>41.07</td>\n",
       "      <td>2025-06-07 10:37:49.895799</td>\n",
       "    </tr>\n",
       "    <tr>\n",
       "      <th>1</th>\n",
       "      <td>234.17</td>\n",
       "      <td>8.89</td>\n",
       "      <td>42.09</td>\n",
       "      <td>2025-06-07 10:37:49.895799</td>\n",
       "    </tr>\n",
       "    <tr>\n",
       "      <th>2</th>\n",
       "      <td>222.69</td>\n",
       "      <td>10.51</td>\n",
       "      <td>42.09</td>\n",
       "      <td>2025-06-07 10:37:49.895799</td>\n",
       "    </tr>\n",
       "    <tr>\n",
       "      <th>3</th>\n",
       "      <td>214.76</td>\n",
       "      <td>9.50</td>\n",
       "      <td>43.02</td>\n",
       "      <td>2025-06-07 10:37:49.895799</td>\n",
       "    </tr>\n",
       "    <tr>\n",
       "      <th>4</th>\n",
       "      <td>226.65</td>\n",
       "      <td>11.40</td>\n",
       "      <td>39.66</td>\n",
       "      <td>2025-06-07 10:37:49.895799</td>\n",
       "    </tr>\n",
       "  </tbody>\n",
       "</table>\n",
       "</div>"
      ],
      "text/plain": [
       "   voltage  current  temperature                  timestamp\n",
       "0   222.10     6.21        41.07 2025-06-07 10:37:49.895799\n",
       "1   234.17     8.89        42.09 2025-06-07 10:37:49.895799\n",
       "2   222.69    10.51        42.09 2025-06-07 10:37:49.895799\n",
       "3   214.76     9.50        43.02 2025-06-07 10:37:49.895799\n",
       "4   226.65    11.40        39.66 2025-06-07 10:37:49.895799"
      ]
     },
     "execution_count": 9,
     "metadata": {},
     "output_type": "execute_result"
    }
   ],
   "source": [
    "import random\n",
    "import pandas as pd\n",
    "import time\n",
    "\n",
    "# Simulate 100 rows of sensor data\n",
    "def simulate_sensor_data():\n",
    "    return {\n",
    "        \"voltage\": round(random.uniform(210, 240), 2),\n",
    "        \"current\": round(random.uniform(5, 15), 2),\n",
    "        \"temperature\": round(random.uniform(25, 45), 2),\n",
    "        \"timestamp\": pd.Timestamp.now()\n",
    "    }\n",
    "\n",
    "# Generate dataset\n",
    "df = pd.DataFrame([simulate_sensor_data() for _ in range(100)])\n",
    "df.head()\n"
   ]
  },
  {
   "cell_type": "code",
   "execution_count": 10,
   "id": "08935a2f-3613-4982-8b81-4db9024eeb5c",
   "metadata": {},
   "outputs": [
    {
     "name": "stdout",
     "output_type": "stream",
     "text": [
      "✅ Alerts saved to anomaly_logs.csv\n"
     ]
    }
   ],
   "source": [
    "def detect_anomaly(row):\n",
    "    return row['voltage'] > 235 or row['temperature'] > 40\n",
    "\n",
    "df['anomaly'] = df.apply(detect_anomaly, axis=1)\n",
    "# ✅ Filter and save anomaly data (optional)\n",
    "alerts = df[df['anomaly']]\n",
    "alerts.to_csv(\"anomaly_logs.csv\", index=False)\n",
    "print(\"✅ Alerts saved to anomaly_logs.csv\")\n",
    "\n"
   ]
  },
  {
   "cell_type": "code",
   "execution_count": 11,
   "id": "bc3cc7e9-1460-4ba7-b021-b7eef940244a",
   "metadata": {},
   "outputs": [
    {
     "name": "stdout",
     "output_type": "stream",
     "text": [
      "🔮 Predicted Load 1: 1368.13 W\n",
      "🔮 Predicted Load 2: 2404.72 W\n",
      "🔮 Predicted Load 3: 3155.49 W\n",
      "🔮 Predicted Load 4: 2631.39 W\n",
      "🔮 Predicted Load 5: 2229.23 W\n",
      "🔮 Predicted Load 6: 1776.6 W\n",
      "🔮 Predicted Load 7: 1567.51 W\n",
      "🔮 Predicted Load 8: 2916.05 W\n",
      "🔮 Predicted Load 9: 2185.45 W\n",
      "🔮 Predicted Load 10: 2431.31 W\n"
     ]
    }
   ],
   "source": [
    "from sklearn.linear_model import LinearRegression\n",
    "from sklearn.model_selection import train_test_split\n",
    "\n",
    "# Create a load column\n",
    "df['load'] = df['voltage'] * df['current']\n",
    "\n",
    "X = df[['voltage', 'current', 'temperature']]\n",
    "y = df['load']\n",
    "\n",
    "X_train, X_test, y_train, y_test = train_test_split(X, y, test_size=0.2)\n",
    "\n",
    "model = LinearRegression()\n",
    "model.fit(X_train, y_train)\n",
    "\n",
    "predicted_load = model.predict(X_test)\n",
    "for i, prediction in enumerate(predicted_load[:10]):\n",
    "    print(f\"🔮 Predicted Load {i+1}: {round(prediction, 2)} W\")\n",
    "\n",
    "\n",
    "\n"
   ]
  },
  {
   "cell_type": "code",
   "execution_count": 12,
   "id": "522861a0-86ca-44a4-8f62-5aa7cfe8e6be",
   "metadata": {},
   "outputs": [
    {
     "data": {
      "image/png": "[encoded data removed]",
      "text/plain": [
       "<Figure size 640x480 with 1 Axes>"
      ]
     },
     "metadata": {},
     "output_type": "display_data"
    }
   ],
   "source": [
    "import matplotlib.pyplot as plt\n",
    "\n",
    "plt.plot(df['timestamp'], df['voltage'], label='Voltage')\n",
    "plt.plot(df['timestamp'], df['temperature'], label='Temperature')\n",
    "plt.legend()\n",
    "plt.xlabel(\"Time\")\n",
    "plt.ylabel(\"Sensor Values\")\n",
    "plt.title(\"Real-Time Monitoring Simulation\")\n",
    "plt.xticks(rotation=45)\n",
    "plt.tight_layout()\n",
    "plt.show()\n"
   ]
  },
  {
   "cell_type": "code",
   "execution_count": 13,
   "id": "c20dcf92-e450-43c4-b7be-4a58d18c869f",
   "metadata": {},
   "outputs": [
    {
     "name": "stdout",
     "output_type": "stream",
     "text": [
      "⚠️ ALERT at 2025-06-07 10:37:49.895799: High reading detected! Voltage=222.1V Temp=41.07°C\n",
      "⚠️ ALERT at 2025-06-07 10:37:49.895799: High reading detected! Voltage=234.17V Temp=42.09°C\n",
      "⚠️ ALERT at 2025-06-07 10:37:49.895799: High reading detected! Voltage=222.69V Temp=42.09°C\n",
      "⚠️ ALERT at 2025-06-07 10:37:49.895799: High reading detected! Voltage=214.76V Temp=43.02°C\n",
      "⚠️ ALERT at 2025-06-07 10:37:49.895799: High reading detected! Voltage=237.69V Temp=32.68°C\n",
      "⚠️ ALERT at 2025-06-07 10:37:49.895799: High reading detected! Voltage=235.04V Temp=29.83°C\n",
      "⚠️ ALERT at 2025-06-07 10:37:49.895799: High reading detected! Voltage=233.96V Temp=42.1°C\n",
      "⚠️ ALERT at 2025-06-07 10:37:49.895799: High reading detected! Voltage=235.97V Temp=34.27°C\n",
      "⚠️ ALERT at 2025-06-07 10:37:49.895799: High reading detected! Voltage=228.87V Temp=41.04°C\n",
      "⚠️ ALERT at 2025-06-07 10:37:49.895799: High reading detected! Voltage=236.78V Temp=25.83°C\n",
      "⚠️ ALERT at 2025-06-07 10:37:49.895799: High reading detected! Voltage=214.09V Temp=42.58°C\n",
      "⚠️ ALERT at 2025-06-07 10:37:49.895799: High reading detected! Voltage=233.62V Temp=40.58°C\n",
      "⚠️ ALERT at 2025-06-07 10:37:49.895799: High reading detected! Voltage=220.71V Temp=40.63°C\n",
      "⚠️ ALERT at 2025-06-07 10:37:49.895799: High reading detected! Voltage=231.59V Temp=44.13°C\n",
      "⚠️ ALERT at 2025-06-07 10:37:49.895799: High reading detected! Voltage=235.46V Temp=25.47°C\n",
      "⚠️ ALERT at 2025-06-07 10:37:49.895799: High reading detected! Voltage=238.83V Temp=34.87°C\n",
      "⚠️ ALERT at 2025-06-07 10:37:49.895799: High reading detected! Voltage=230.76V Temp=44.73°C\n",
      "⚠️ ALERT at 2025-06-07 10:37:49.895799: High reading detected! Voltage=223.66V Temp=44.87°C\n",
      "⚠️ ALERT at 2025-06-07 10:37:49.895799: High reading detected! Voltage=238.47V Temp=26.05°C\n",
      "⚠️ ALERT at 2025-06-07 10:37:49.895799: High reading detected! Voltage=232.72V Temp=41.69°C\n",
      "⚠️ ALERT at 2025-06-07 10:37:49.895799: High reading detected! Voltage=238.09V Temp=42.21°C\n",
      "⚠️ ALERT at 2025-06-07 10:37:49.895799: High reading detected! Voltage=224.85V Temp=42.74°C\n",
      "⚠️ ALERT at 2025-06-07 10:37:49.896800: High reading detected! Voltage=226.48V Temp=43.09°C\n",
      "⚠️ ALERT at 2025-06-07 10:37:49.896800: High reading detected! Voltage=236.83V Temp=32.52°C\n",
      "⚠️ ALERT at 2025-06-07 10:37:49.896800: High reading detected! Voltage=236.01V Temp=33.91°C\n",
      "⚠️ ALERT at 2025-06-07 10:37:49.896800: High reading detected! Voltage=223.19V Temp=44.23°C\n",
      "⚠️ ALERT at 2025-06-07 10:37:49.896800: High reading detected! Voltage=210.72V Temp=44.68°C\n",
      "⚠️ ALERT at 2025-06-07 10:37:49.896800: High reading detected! Voltage=227.56V Temp=41.09°C\n",
      "⚠️ ALERT at 2025-06-07 10:37:49.896800: High reading detected! Voltage=227.61V Temp=44.28°C\n",
      "⚠️ ALERT at 2025-06-07 10:37:49.896800: High reading detected! Voltage=239.83V Temp=28.91°C\n",
      "⚠️ ALERT at 2025-06-07 10:37:49.896800: High reading detected! Voltage=236.59V Temp=27.48°C\n",
      "⚠️ ALERT at 2025-06-07 10:37:49.896800: High reading detected! Voltage=238.47V Temp=41.52°C\n",
      "⚠️ ALERT at 2025-06-07 10:37:49.896800: High reading detected! Voltage=231.21V Temp=43.1°C\n",
      "⚠️ ALERT at 2025-06-07 10:37:49.896800: High reading detected! Voltage=225.48V Temp=40.55°C\n",
      "⚠️ ALERT at 2025-06-07 10:37:49.896800: High reading detected! Voltage=231.61V Temp=43.19°C\n",
      "⚠️ ALERT at 2025-06-07 10:37:49.896800: High reading detected! Voltage=235.91V Temp=42.38°C\n",
      "⚠️ ALERT at 2025-06-07 10:37:49.896800: High reading detected! Voltage=230.27V Temp=41.96°C\n",
      "⚠️ ALERT at 2025-06-07 10:37:49.896800: High reading detected! Voltage=238.92V Temp=40.2°C\n",
      "⚠️ ALERT at 2025-06-07 10:37:49.896800: High reading detected! Voltage=231.62V Temp=40.53°C\n",
      "⚠️ ALERT at 2025-06-07 10:37:49.896800: High reading detected! Voltage=213.89V Temp=43.21°C\n",
      "⚠️ ALERT at 2025-06-07 10:37:49.896800: High reading detected! Voltage=237.08V Temp=44.28°C\n",
      "⚠️ ALERT at 2025-06-07 10:37:49.896800: High reading detected! Voltage=238.2V Temp=27.65°C\n",
      "⚠️ ALERT at 2025-06-07 10:37:49.896800: High reading detected! Voltage=228.13V Temp=42.44°C\n",
      "⚠️ ALERT at 2025-06-07 10:37:49.896800: High reading detected! Voltage=224.23V Temp=40.31°C\n",
      "⚠️ Total Alerts Detected: 44\n"
     ]
    }
   ],
   "source": [
    "alerts = df[df['anomaly'] == True]\n",
    "\n",
    "for _, row in alerts.iterrows():\n",
    "    print(f\"⚠️ ALERT at {row['timestamp']}: High reading detected! Voltage={row['voltage']}V Temp={row['temperature']}°C\")\n",
    "print(f\"⚠️ Total Alerts Detected: {df['anomaly'].sum()}\")\n"
   ]
  },
  {
   "cell_type": "code",
   "execution_count": 14,
   "id": "8420950d-9892-41d2-9598-fd2aadc1413c",
   "metadata": {},
   "outputs": [
    {
     "name": "stdout",
     "output_type": "stream",
     "text": [
      "Defaulting to user installation because normal site-packages is not writeable\n",
      "Requirement already satisfied: paho-mqtt in c:\\users\\vp380\\appdata\\roaming\\python\\python312\\site-packages (2.1.0)\n"
     ]
    }
   ],
   "source": [
    "import sys\n",
    "!{sys.executable} -m pip install paho-mqtt\n"
   ]
  },
  {
   "cell_type": "code",
   "execution_count": 15,
   "id": "8d378408-c4c1-4548-b4d4-2d621aa54667",
   "metadata": {},
   "outputs": [
    {
     "name": "stdout",
     "output_type": "stream",
     "text": [
      "Name: paho-mqtt\n",
      "Version: 2.1.0\n",
      "Summary: MQTT version 5.0/3.1.1 client class\n",
      "Home-page: http://eclipse.org/paho\n",
      "Author: \n",
      "Author-email: Roger Light <roger@atchoo.org>\n",
      "License: EPL-2.0 OR BSD-3-Clause\n",
      "Location: C:\\Users\\vp380\\AppData\\Roaming\\Python\\Python312\\site-packages\n",
      "Requires: \n",
      "Required-by: \n",
      "C:\\ProgramData\\anaconda3\\python.exe\n"
     ]
    }
   ],
   "source": [
    "!pip show paho-mqtt\n",
    "import sys\n",
    "print(sys.executable)\n",
    "\n"
   ]
  },
  {
   "cell_type": "code",
   "execution_count": 16,
   "id": "b20bf714-43b4-4e40-bfb0-a0acdbdfae4c",
   "metadata": {},
   "outputs": [
    {
     "name": "stdout",
     "output_type": "stream",
     "text": [
      "📤 Sent: {'voltage': 229.38, 'current': 6.65, 'temperature': 38.83}\n",
      "📤 Sent: {'voltage': 238.92, 'current': 9.22, 'temperature': 36.15}\n",
      "📤 Sent: {'voltage': 220.24, 'current': 9.19, 'temperature': 32.93}\n",
      "📤 Sent: {'voltage': 239.63, 'current': 14.21, 'temperature': 40.62}\n",
      "📤 Sent: {'voltage': 228.94, 'current': 9.46, 'temperature': 37.78}\n",
      "📤 Sent: {'voltage': 235.23, 'current': 9.3, 'temperature': 35.4}\n",
      "📤 Sent: {'voltage': 233.73, 'current': 7.19, 'temperature': 32.63}\n",
      "📤 Sent: {'voltage': 230.7, 'current': 11.53, 'temperature': 34.14}\n",
      "📤 Sent: {'voltage': 220.35, 'current': 11.59, 'temperature': 36.6}\n",
      "📤 Sent: {'voltage': 232.7, 'current': 12.58, 'temperature': 30.03}\n"
     ]
    }
   ],
   "source": [
    "import paho.mqtt.publish as publish\n",
    "import json\n",
    "\n",
    "for i in range(10):\n",
    "    payload = {\n",
    "        \"voltage\": round(random.uniform(220, 240), 2),\n",
    "        \"current\": round(random.uniform(5, 15), 2),\n",
    "        \"temperature\": round(random.uniform(30, 45), 2)\n",
    "    }\n",
    "    publish.single(\"grid/sensors\", json.dumps(payload), hostname=\"broker.hivemq.com\")\n",
    "    print(\"📤 Sent:\", payload)\n",
    "    time.sleep(2)\n"
   ]
  },
  {
   "cell_type": "code",
   "execution_count": null,
   "id": "9c4e575c-92bc-46a6-838b-847040a2ff35",
   "metadata": {},
   "outputs": [],
   "source": []
  }
 ],
 "metadata": {
  "kernelspec": {
   "display_name": "Python [conda env:base] *",
   "language": "python",
   "name": "conda-base-py"
  },
  "language_info": {
   "codemirror_mode": {
    "name": "ipython",
    "version": 3
   },
   "file_extension": ".py",
   "mimetype": "text/x-python",
   "name": "python",
   "nbconvert_exporter": "python",
   "pygments_lexer": "ipython3",
   "version": "3.12.7"
  }
 },
 "nbformat": 4,
 "nbformat_minor": 5
}
