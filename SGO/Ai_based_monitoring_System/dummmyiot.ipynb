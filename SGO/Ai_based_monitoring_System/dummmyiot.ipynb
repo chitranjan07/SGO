{
 "cells": [
  {
   "cell_type": "code",
   "execution_count": 1,
   "id": "3a2748c3-ebd4-4f96-9b25-d3c78eb9b3b0",
   "metadata": {},
   "outputs": [
    {
     "data": {
      "text/html": [
       "<div>\n",
       "<style scoped>\n",
       "    .dataframe tbody tr th:only-of-type {\n",
       "        vertical-align: middle;\n",
       "    }\n",
       "\n",
       "    .dataframe tbody tr th {\n",
       "        vertical-align: top;\n",
       "    }\n",
       "\n",
       "    .dataframe thead th {\n",
       "        text-align: right;\n",
       "    }\n",
       "</style>\n",
       "<table border=\"1\" class=\"dataframe\">\n",
       "  <thead>\n",
       "    <tr style=\"text-align: right;\">\n",
       "      <th></th>\n",
       "      <th>voltage</th>\n",
       "      <th>current</th>\n",
       "      <th>temperature</th>\n",
       "      <th>timestamp</th>\n",
       "    </tr>\n",
       "  </thead>\n",
       "  <tbody>\n",
       "    <tr>\n",
       "      <th>0</th>\n",
       "      <td>229.98</td>\n",
       "      <td>9.11</td>\n",
       "      <td>35.79</td>\n",
       "      <td>2025-06-07 13:25:28.610846</td>\n",
       "    </tr>\n",
       "    <tr>\n",
       "      <th>1</th>\n",
       "      <td>230.68</td>\n",
       "      <td>9.23</td>\n",
       "      <td>32.14</td>\n",
       "      <td>2025-06-07 13:25:28.611859</td>\n",
       "    </tr>\n",
       "    <tr>\n",
       "      <th>2</th>\n",
       "      <td>216.63</td>\n",
       "      <td>6.20</td>\n",
       "      <td>26.99</td>\n",
       "      <td>2025-06-07 13:25:28.611859</td>\n",
       "    </tr>\n",
       "    <tr>\n",
       "      <th>3</th>\n",
       "      <td>236.55</td>\n",
       "      <td>7.39</td>\n",
       "      <td>43.00</td>\n",
       "      <td>2025-06-07 13:25:28.611859</td>\n",
       "    </tr>\n",
       "    <tr>\n",
       "      <th>4</th>\n",
       "      <td>237.70</td>\n",
       "      <td>10.23</td>\n",
       "      <td>31.19</td>\n",
       "      <td>2025-06-07 13:25:28.611859</td>\n",
       "    </tr>\n",
       "  </tbody>\n",
       "</table>\n",
       "</div>"
      ],
      "text/plain": [
       "   voltage  current  temperature                  timestamp\n",
       "0   229.98     9.11        35.79 2025-06-07 13:25:28.610846\n",
       "1   230.68     9.23        32.14 2025-06-07 13:25:28.611859\n",
       "2   216.63     6.20        26.99 2025-06-07 13:25:28.611859\n",
       "3   236.55     7.39        43.00 2025-06-07 13:25:28.611859\n",
       "4   237.70    10.23        31.19 2025-06-07 13:25:28.611859"
      ]
     },
     "execution_count": 1,
     "metadata": {},
     "output_type": "execute_result"
    }
   ],
   "source": [
    "import random\n",
    "import pandas as pd\n",
    "import time\n",
    "\n",
    "# Simulate 100 rows of sensor data\n",
    "def simulate_sensor_data():\n",
    "    return {\n",
    "        \"voltage\": round(random.uniform(210, 240), 2),\n",
    "        \"current\": round(random.uniform(5, 15), 2),\n",
    "        \"temperature\": round(random.uniform(25, 45), 2),\n",
    "        \"timestamp\": pd.Timestamp.now()\n",
    "    }\n",
    "\n",
    "# Generate dataset\n",
    "df = pd.DataFrame([simulate_sensor_data() for _ in range(100)])\n",
    "df.head()\n"
   ]
  },
  {
   "cell_type": "code",
   "execution_count": 2,
   "id": "08935a2f-3613-4982-8b81-4db9024eeb5c",
   "metadata": {},
   "outputs": [
    {
     "name": "stdout",
     "output_type": "stream",
     "text": [
      "✅ Alerts saved to anomaly_logs.csv\n"
     ]
    }
   ],
   "source": [
    "def detect_anomaly(row):\n",
    "    return row['voltage'] > 235 or row['temperature'] > 40\n",
    "\n",
    "df['anomaly'] = df.apply(detect_anomaly, axis=1)\n",
    "# ✅ Filter and save anomaly data (optional)\n",
    "alerts = df[df['anomaly']]\n",
    "alerts.to_csv(\"anomaly_logs.csv\", index=False)\n",
    "print(\"✅ Alerts saved to anomaly_logs.csv\")\n",
    "\n"
   ]
  },
  {
   "cell_type": "code",
   "execution_count": 3,
   "id": "bc3cc7e9-1460-4ba7-b021-b7eef940244a",
   "metadata": {},
   "outputs": [
    {
     "name": "stdout",
     "output_type": "stream",
     "text": [
      "🔮 Predicted Load 1: 2786.15 W\n",
      "🔮 Predicted Load 2: 2507.84 W\n",
      "🔮 Predicted Load 3: 2425.84 W\n",
      "🔮 Predicted Load 4: 2134.48 W\n",
      "🔮 Predicted Load 5: 1480.21 W\n",
      "🔮 Predicted Load 6: 3114.23 W\n",
      "🔮 Predicted Load 7: 2507.13 W\n",
      "🔮 Predicted Load 8: 2897.58 W\n",
      "🔮 Predicted Load 9: 2432.12 W\n",
      "🔮 Predicted Load 10: 3150.33 W\n"
     ]
    }
   ],
   "source": [
    "from sklearn.linear_model import LinearRegression\n",
    "from sklearn.model_selection import train_test_split\n",
    "\n",
    "# Create a load column\n",
    "df['load'] = df['voltage'] * df['current']\n",
    "\n",
    "X = df[['voltage', 'current', 'temperature']]\n",
    "y = df['load']\n",
    "\n",
    "X_train, X_test, y_train, y_test = train_test_split(X, y, test_size=0.2)\n",
    "\n",
    "model = LinearRegression()\n",
    "model.fit(X_train, y_train)\n",
    "\n",
    "predicted_load = model.predict(X_test)\n",
    "for i, prediction in enumerate(predicted_load[:10]):\n",
    "    print(f\"🔮 Predicted Load {i+1}: {round(prediction, 2)} W\")\n",
    "\n",
    "\n",
    "\n"
   ]
  },
  {
   "cell_type": "code",
   "execution_count": 4,
   "id": "522861a0-86ca-44a4-8f62-5aa7cfe8e6be",
   "metadata": {},
   "outputs": [
    {
     "data": {
      "image/png": "[encoded data removed]",
      "text/plain": [
       "<Figure size 640x480 with 1 Axes>"
      ]
     },
     "metadata": {},
     "output_type": "display_data"
    }
   ],
   "source": [
    "import matplotlib.pyplot as plt\n",
    "\n",
    "plt.plot(df['timestamp'], df['voltage'], label='Voltage')\n",
    "plt.plot(df['timestamp'], df['temperature'], label='Temperature')\n",
    "plt.legend()\n",
    "plt.xlabel(\"Time\")\n",
    "plt.ylabel(\"Sensor Values\")\n",
    "plt.title(\"Real-Time Monitoring Simulation\")\n",
    "plt.xticks(rotation=45)\n",
    "plt.tight_layout()\n",
    "plt.show()\n"
   ]
  },
  {
   "cell_type": "code",
   "execution_count": 5,
   "id": "c20dcf92-e450-43c4-b7be-4a58d18c869f",
   "metadata": {},
   "outputs": [
    {
     "name": "stdout",
     "output_type": "stream",
     "text": [
      "⚠️ ALERT at 2025-06-07 13:25:28.611859: High reading detected! Voltage=236.55V Temp=43.0°C\n",
      "⚠️ ALERT at 2025-06-07 13:25:28.611859: High reading detected! Voltage=237.7V Temp=31.19°C\n",
      "⚠️ ALERT at 2025-06-07 13:25:28.611859: High reading detected! Voltage=216.29V Temp=43.17°C\n",
      "⚠️ ALERT at 2025-06-07 13:25:28.611859: High reading detected! Voltage=229.85V Temp=43.62°C\n",
      "⚠️ ALERT at 2025-06-07 13:25:28.611859: High reading detected! Voltage=237.69V Temp=38.65°C\n",
      "⚠️ ALERT at 2025-06-07 13:25:28.611859: High reading detected! Voltage=236.33V Temp=41.58°C\n",
      "⚠️ ALERT at 2025-06-07 13:25:28.611859: High reading detected! Voltage=232.23V Temp=41.72°C\n",
      "⚠️ ALERT at 2025-06-07 13:25:28.611859: High reading detected! Voltage=235.72V Temp=25.51°C\n",
      "⚠️ ALERT at 2025-06-07 13:25:28.611859: High reading detected! Voltage=228.0V Temp=40.98°C\n",
      "⚠️ ALERT at 2025-06-07 13:25:28.611859: High reading detected! Voltage=238.15V Temp=38.91°C\n",
      "⚠️ ALERT at 2025-06-07 13:25:28.611859: High reading detected! Voltage=235.76V Temp=37.89°C\n",
      "⚠️ ALERT at 2025-06-07 13:25:28.611859: High reading detected! Voltage=239.17V Temp=38.13°C\n",
      "⚠️ ALERT at 2025-06-07 13:25:28.611859: High reading detected! Voltage=235.84V Temp=29.84°C\n",
      "⚠️ ALERT at 2025-06-07 13:25:28.611859: High reading detected! Voltage=239.62V Temp=39.72°C\n",
      "⚠️ ALERT at 2025-06-07 13:25:28.611859: High reading detected! Voltage=230.48V Temp=41.17°C\n",
      "⚠️ ALERT at 2025-06-07 13:25:28.611859: High reading detected! Voltage=217.88V Temp=40.84°C\n",
      "⚠️ ALERT at 2025-06-07 13:25:28.611859: High reading detected! Voltage=217.95V Temp=40.11°C\n",
      "⚠️ ALERT at 2025-06-07 13:25:28.611859: High reading detected! Voltage=216.4V Temp=41.16°C\n",
      "⚠️ ALERT at 2025-06-07 13:25:28.612921: High reading detected! Voltage=236.16V Temp=28.55°C\n",
      "⚠️ ALERT at 2025-06-07 13:25:28.612921: High reading detected! Voltage=222.24V Temp=42.35°C\n",
      "⚠️ ALERT at 2025-06-07 13:25:28.612921: High reading detected! Voltage=233.59V Temp=44.93°C\n",
      "⚠️ ALERT at 2025-06-07 13:25:28.612921: High reading detected! Voltage=220.33V Temp=40.27°C\n",
      "⚠️ ALERT at 2025-06-07 13:25:28.612921: High reading detected! Voltage=239.09V Temp=26.42°C\n",
      "⚠️ ALERT at 2025-06-07 13:25:28.612921: High reading detected! Voltage=222.84V Temp=42.0°C\n",
      "⚠️ ALERT at 2025-06-07 13:25:28.612921: High reading detected! Voltage=235.56V Temp=34.27°C\n",
      "⚠️ ALERT at 2025-06-07 13:25:28.612921: High reading detected! Voltage=226.91V Temp=44.1°C\n",
      "⚠️ ALERT at 2025-06-07 13:25:28.612921: High reading detected! Voltage=235.99V Temp=42.68°C\n",
      "⚠️ ALERT at 2025-06-07 13:25:28.612921: High reading detected! Voltage=239.69V Temp=28.15°C\n",
      "⚠️ ALERT at 2025-06-07 13:25:28.612921: High reading detected! Voltage=238.01V Temp=35.97°C\n",
      "⚠️ ALERT at 2025-06-07 13:25:28.612921: High reading detected! Voltage=210.2V Temp=41.32°C\n",
      "⚠️ ALERT at 2025-06-07 13:25:28.612921: High reading detected! Voltage=222.07V Temp=41.65°C\n",
      "⚠️ ALERT at 2025-06-07 13:25:28.612921: High reading detected! Voltage=217.98V Temp=44.63°C\n",
      "⚠️ ALERT at 2025-06-07 13:25:28.612921: High reading detected! Voltage=216.95V Temp=43.6°C\n",
      "⚠️ ALERT at 2025-06-07 13:25:28.612921: High reading detected! Voltage=237.07V Temp=34.04°C\n",
      "⚠️ ALERT at 2025-06-07 13:25:28.612921: High reading detected! Voltage=219.28V Temp=40.1°C\n",
      "⚠️ ALERT at 2025-06-07 13:25:28.612921: High reading detected! Voltage=234.8V Temp=41.66°C\n",
      "⚠️ ALERT at 2025-06-07 13:25:28.612921: High reading detected! Voltage=234.65V Temp=41.19°C\n",
      "⚠️ ALERT at 2025-06-07 13:25:28.612921: High reading detected! Voltage=235.07V Temp=32.48°C\n",
      "⚠️ ALERT at 2025-06-07 13:25:28.612921: High reading detected! Voltage=231.04V Temp=41.7°C\n",
      "⚠️ ALERT at 2025-06-07 13:25:28.612921: High reading detected! Voltage=235.44V Temp=43.09°C\n",
      "⚠️ ALERT at 2025-06-07 13:25:28.613430: High reading detected! Voltage=236.92V Temp=30.55°C\n",
      "⚠️ ALERT at 2025-06-07 13:25:28.613430: High reading detected! Voltage=219.17V Temp=40.57°C\n",
      "⚠️ ALERT at 2025-06-07 13:25:28.613430: High reading detected! Voltage=213.83V Temp=42.34°C\n",
      "⚠️ ALERT at 2025-06-07 13:25:28.613430: High reading detected! Voltage=216.45V Temp=40.27°C\n",
      "⚠️ ALERT at 2025-06-07 13:25:28.613430: High reading detected! Voltage=230.59V Temp=40.5°C\n",
      "⚠️ ALERT at 2025-06-07 13:25:28.613430: High reading detected! Voltage=228.54V Temp=44.78°C\n",
      "⚠️ ALERT at 2025-06-07 13:25:28.613430: High reading detected! Voltage=228.55V Temp=40.92°C\n",
      "⚠️ Total Alerts Detected: 47\n"
     ]
    }
   ],
   "source": [
    "alerts = df[df['anomaly'] == True]\n",
    "\n",
    "for _, row in alerts.iterrows():\n",
    "    print(f\"⚠️ ALERT at {row['timestamp']}: High reading detected! Voltage={row['voltage']}V Temp={row['temperature']}°C\")\n",
    "print(f\"⚠️ Total Alerts Detected: {df['anomaly'].sum()}\")\n"
   ]
  },
  {
   "cell_type": "code",
   "execution_count": 6,
   "id": "8420950d-9892-41d2-9598-fd2aadc1413c",
   "metadata": {},
   "outputs": [
    {
     "name": "stdout",
     "output_type": "stream",
     "text": [
      "Defaulting to user installation because normal site-packages is not writeable\n",
      "Requirement already satisfied: paho-mqtt in c:\\users\\vp380\\appdata\\roaming\\python\\python312\\site-packages (2.1.0)\n"
     ]
    }
   ],
   "source": [
    "import sys\n",
    "!{sys.executable} -m pip install paho-mqtt\n"
   ]
  },
  {
   "cell_type": "code",
   "execution_count": 7,
   "id": "8d378408-c4c1-4548-b4d4-2d621aa54667",
   "metadata": {},
   "outputs": [
    {
     "name": "stdout",
     "output_type": "stream",
     "text": [
      "Name: paho-mqtt\n",
      "Version: 2.1.0\n",
      "Summary: MQTT version 5.0/3.1.1 client class\n",
      "Home-page: http://eclipse.org/paho\n",
      "Author: \n",
      "Author-email: Roger Light <roger@atchoo.org>\n",
      "License: EPL-2.0 OR BSD-3-Clause\n",
      "Location: C:\\Users\\vp380\\AppData\\Roaming\\Python\\Python312\\site-packages\n",
      "Requires: \n",
      "Required-by: \n",
      "C:\\ProgramData\\anaconda3\\python.exe\n"
     ]
    }
   ],
   "source": [
    "!pip show paho-mqtt\n",
    "import sys\n",
    "print(sys.executable)\n",
    "\n"
   ]
  },
  {
   "cell_type": "code",
   "execution_count": 8,
   "id": "b20bf714-43b4-4e40-bfb0-a0acdbdfae4c",
   "metadata": {},
   "outputs": [
    {
     "name": "stdout",
     "output_type": "stream",
     "text": [
      "📤 Sent: {'voltage': 220.89, 'current': 13.3, 'temperature': 38.18}\n",
      "📤 Sent: {'voltage': 228.34, 'current': 12.96, 'temperature': 37.97}\n",
      "📤 Sent: {'voltage': 224.06, 'current': 7.56, 'temperature': 35.06}\n",
      "📤 Sent: {'voltage': 233.39, 'current': 5.39, 'temperature': 31.25}\n",
      "📤 Sent: {'voltage': 233.74, 'current': 11.85, 'temperature': 38.27}\n",
      "📤 Sent: {'voltage': 233.25, 'current': 13.03, 'temperature': 38.39}\n",
      "📤 Sent: {'voltage': 234.13, 'current': 10.77, 'temperature': 41.72}\n",
      "📤 Sent: {'voltage': 220.24, 'current': 8.62, 'temperature': 32.41}\n",
      "📤 Sent: {'voltage': 233.88, 'current': 13.87, 'temperature': 43.04}\n",
      "📤 Sent: {'voltage': 223.17, 'current': 12.58, 'temperature': 31.15}\n"
     ]
    }
   ],
   "source": [
    "import paho.mqtt.publish as publish\n",
    "import json\n",
    "\n",
    "for i in range(10):\n",
    "    payload = {\n",
    "        \"voltage\": round(random.uniform(220, 240), 2),\n",
    "        \"current\": round(random.uniform(5, 15), 2),\n",
    "        \"temperature\": round(random.uniform(30, 45), 2)\n",
    "    }\n",
    "    publish.single(\"grid/sensors\", json.dumps(payload), hostname=\"broker.hivemq.com\")\n",
    "    print(\"📤 Sent:\", payload)\n",
    "    time.sleep(2)\n"
   ]
  },
  {
   "cell_type": "code",
   "execution_count": null,
   "id": "9c4e575c-92bc-46a6-838b-847040a2ff35",
   "metadata": {},
   "outputs": [],
   "source": []
  }
 ],
 "metadata": {
  "kernelspec": {
   "display_name": "Python 3 (ipykernel)",
   "language": "python",
   "name": "python3"
  },
  "language_info": {
   "codemirror_mode": {
    "name": "ipython",
    "version": 3
   },
   "file_extension": ".py",
   "mimetype": "text/x-python",
   "name": "python",
   "nbconvert_exporter": "python",
   "pygments_lexer": "ipython3",
   "version": "3.12.6"
  }
 },
 "nbformat": 4,
 "nbformat_minor": 5
}
