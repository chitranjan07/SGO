{
 "cells": [
  {
   "cell_type": "code",
   "execution_count": 1,
   "id": "8c92a21f-a3e3-4f82-8f9d-ed99975d4843",
   "metadata": {},
   "outputs": [],
   "source": [
    "# save_all_artifacts.py\n",
    "\n",
    "import os\n",
    "import joblib\n",
    "import numpy as np\n",
    "import networkx as nx\n",
    "from tensorflow.keras.models import load_model\n",
    "\n",
    "# Unified folder\n",
    "SAVE_DIR = \"smart_grid_artifacts\"\n",
    "os.makedirs(SAVE_DIR, exist_ok=True)\n",
    "\n",
    "# 1. Save Isolation Forest model\n",
    "def save_isolation_forest(model):\n",
    "    path = os.path.join(SAVE_DIR, \"isolation_forest_model.pkl\")\n",
    "    joblib.dump(model, path)\n",
    "    print(f\"[✓] Isolation Forest saved to {path}\")\n",
    "\n",
    "# 2. Save LSTM model\n",
    "def save_lstm_model(model):\n",
    "    path = os.path.join(SAVE_DIR, \"lstm_theft_model.h5\")\n",
    "    model.save(path)\n",
    "    print(f\"[✓] LSTM model saved to {path}\")\n",
    "\n",
    "# 3. Save scaler (if used)\n",
    "def save_scaler(scaler):\n",
    "    path = os.path.join(SAVE_DIR, \"scaler.pkl\")\n",
    "    joblib.dump(scaler, path)\n",
    "    print(f\"[✓] Scaler saved to {path}\")\n",
    "\n",
    "# 4. Save optimized power flow values\n",
    "def save_power_flow(power_values):\n",
    "    path = os.path.join(SAVE_DIR, \"optimized_power_flow.npy\")\n",
    "    np.save(path, power_values)\n",
    "    print(f\"[✓] Power flow saved to {path}\")\n",
    "\n",
    "# 5. Save graph\n",
    "def save_graph(graph):\n",
    "    path = os.path.join(SAVE_DIR, \"grid_network.gml\")\n",
    "    nx.write_gml(graph, path)\n",
    "    print(f\"[✓] Graph saved to {path}\")\n",
    "\n",
    "# Main function to save everything\n",
    "def save_everything(model_anomaly, model_theft, power_values, graph, scaler=None):\n",
    "    save_isolation_forest(model_anomaly)\n",
    "    save_lstm_model(model_theft)\n",
    "    if scaler is not None:\n",
    "        save_scaler(scaler)\n",
    "    save_power_flow(power_values)\n",
    "    save_graph(graph)\n",
    "    print(\"\\n✅ All models and data saved in one folder: smart_grid_artifacts\\n\")\n"
   ]
  },
  {
   "cell_type": "code",
   "execution_count": 2,
   "id": "cc51dc3b-cf4f-48ea-a7f6-cee9725d5297",
   "metadata": {},
   "outputs": [
    {
     "ename": "ModuleNotFoundError",
     "evalue": "No module named 'save_all_artifacts'",
     "output_type": "error",
     "traceback": [
      "\u001b[31m---------------------------------------------------------------------------\u001b[39m",
      "\u001b[31mModuleNotFoundError\u001b[39m                       Traceback (most recent call last)",
      "\u001b[36mCell\u001b[39m\u001b[36m \u001b[39m\u001b[32mIn[2]\u001b[39m\u001b[32m, line 1\u001b[39m\n\u001b[32m----> \u001b[39m\u001b[32m1\u001b[39m \u001b[38;5;28;01mfrom\u001b[39;00m\u001b[38;5;250m \u001b[39m\u001b[34;01msave_all_artifacts\u001b[39;00m\u001b[38;5;250m \u001b[39m\u001b[38;5;28;01mimport\u001b[39;00m save_everything\n\u001b[32m      3\u001b[39m save_everything(model_anomaly, model_theft, P.value, graph, scaler)\n",
      "\u001b[31mModuleNotFoundError\u001b[39m: No module named 'save_all_artifacts'"
     ]
    }
   ],
   "source": [
    "from save_all_artifacts import save_everything\n",
    "\n",
    "save_everything(model_anomaly, model_theft, P.value, graph, scaler)\n"
   ]
  },
  {
   "cell_type": "code",
   "execution_count": null,
   "id": "efb498f7-6a19-4320-98ea-545867d73473",
   "metadata": {},
   "outputs": [],
   "source": []
  }
 ],
 "metadata": {
  "kernelspec": {
   "display_name": "Python 3 (ipykernel)",
   "language": "python",
   "name": "python3"
  },
  "language_info": {
   "codemirror_mode": {
    "name": "ipython",
    "version": 3
   },
   "file_extension": ".py",
   "mimetype": "text/x-python",
   "name": "python",
   "nbconvert_exporter": "python",
   "pygments_lexer": "ipython3",
   "version": "3.12.6"
  }
 },
 "nbformat": 4,
 "nbformat_minor": 5
}
